{
 "cells": [
  {
   "cell_type": "markdown",
   "id": "9a8b0470",
   "metadata": {},
   "source": [
    "**Умова:**\n",
    " \n",
    "Знайти з надійністю $\\gamma = 0,95$ інтервальну оцінку для ймовірності настання події А в кожному із $n = 100$ незалежних\n",
    "повторних випробувань, якщо подія відбулася $m = 40$ раз."
   ]
  },
  {
   "cell_type": "markdown",
   "id": "be6cafa5",
   "metadata": {},
   "source": [
    "**Розв'язок:**\n",
    "\n",
    "Для невзаємозв'язаних випробувань події $A$, що відбулася $m$ раз для знаходження довірчого інтервалу $p_1 < p < p_2$ з заданою надійністю $\\gamma$ використовується формулами:\n"
   ]
  },
  {
   "cell_type": "markdown",
   "id": "ae24e509",
   "metadata": {},
   "source": [
    "\n",
    "$${p_1} = \\frac{1}{t^2 + n} (m + \\frac{t^2}{2} - t\\sqrt{\\frac{m(n-m)}{n} + \\frac{t^2}{4}});$$\n",
    "\n",
    "$${p_2} = \\frac{1}{t^2 + n} (m + \\frac{t^2}{2} + t\\sqrt{\\frac{m(n-m)}{n} + \\frac{t^2}{4}});$$"
   ]
  },
  {
   "cell_type": "markdown",
   "id": "3926deb0",
   "metadata": {},
   "source": [
    "Для заданого $\\frac{\\gamma}{2}$ з таблиці Лапласса отримаємо $t = 1,96$"
   ]
  },
  {
   "cell_type": "code",
   "execution_count": 3,
   "id": "bef2afe6",
   "metadata": {},
   "outputs": [
    {
     "name": "stdout",
     "output_type": "stream",
     "text": [
      "Інтервальна оцінка настання події А з ймовірністю 0,95 знаходиться в межах від 0.31 до 0.5 \n"
     ]
    }
   ],
   "source": [
    "n = 100\n",
    "m = 40\n",
    "t = 1.96\n",
    "\n",
    "p1 = 1/(t**2+n) * (m + t**2/2 - t * ((m*(n-m)/n + t**2/4)**0.5 ))\n",
    "p2 = 1/(t**2+n) * (m + t**2/2 + t * ((m*(n-m)/n + t**2/4)**0.5 ))\n",
    "print(f\"Інтервальна оцінка настання події А з ймовірністю 0,95 знаходиться в межах від {round(p1, 2)} до {round(p2, 2)} \")"
   ]
  }
 ],
 "metadata": {
  "kernelspec": {
   "display_name": "Python 3 (ipykernel)",
   "language": "python",
   "name": "python3"
  },
  "language_info": {
   "codemirror_mode": {
    "name": "ipython",
    "version": 3
   },
   "file_extension": ".py",
   "mimetype": "text/x-python",
   "name": "python",
   "nbconvert_exporter": "python",
   "pygments_lexer": "ipython3",
   "version": "3.10.7"
  }
 },
 "nbformat": 4,
 "nbformat_minor": 5
}
