{
 "cells": [
  {
   "cell_type": "markdown",
   "id": "02f856d9",
   "metadata": {},
   "source": [
    "**Умова:**\n",
    "\n",
    "Знайти мінімальний об'єм вибірки, при якому з надійністю $\\gamma = 0,99$ точність оцінки математичного сподівання $\\alpha$ нормально розподіленної ознаки дорівнює $\\delta = 0,6$, якщо середнє квадратичне відхилення $\\sigma = 3$"
   ]
  },
  {
   "cell_type": "markdown",
   "id": "b05ce693",
   "metadata": {},
   "source": [
    "**Розв'язок:**\n",
    "\n",
    "Для знаходження мінімального об'єму вибірки для даних умов, скористаємося формулою: $$ n = \\frac{t^2\\sigma^2}{\\delta^2}$$"
   ]
  },
  {
   "cell_type": "markdown",
   "id": "9320d98c",
   "metadata": {},
   "source": [
    "де для заданого $\\frac{\\gamma}{2}$ з таблиці Лапласса отримаємо $t = 2,58$"
   ]
  },
  {
   "cell_type": "code",
   "execution_count": 10,
   "id": "faacc85c",
   "metadata": {},
   "outputs": [
    {
     "name": "stdout",
     "output_type": "stream",
     "text": [
      "n =  166.41\n"
     ]
    }
   ],
   "source": [
    "d = 0.6\n",
    "s = 3\n",
    "t = 2.58\n",
    "\n",
    "n = (t**2 * s**2)/d**2\n",
    "print(\"n = \", round(n, 2))"
   ]
  },
  {
   "cell_type": "markdown",
   "id": "364f5fb9",
   "metadata": {},
   "source": [
    "**Мінімальний об'єм вибірки для відповідності заданим критеріям має бути не менший ніж 167**"
   ]
  }
 ],
 "metadata": {
  "kernelspec": {
   "display_name": "Python 3 (ipykernel)",
   "language": "python",
   "name": "python3"
  },
  "language_info": {
   "codemirror_mode": {
    "name": "ipython",
    "version": 3
   },
   "file_extension": ".py",
   "mimetype": "text/x-python",
   "name": "python",
   "nbconvert_exporter": "python",
   "pygments_lexer": "ipython3",
   "version": "3.9.7"
  }
 },
 "nbformat": 4,
 "nbformat_minor": 5
}
