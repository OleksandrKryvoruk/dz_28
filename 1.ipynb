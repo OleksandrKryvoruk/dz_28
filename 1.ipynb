{
 "cells": [
  {
   "cell_type": "markdown",
   "id": "73834816",
   "metadata": {},
   "source": [
    "**Умова:**\n",
    "    \n",
    "Із генеральної сукупності, розподіленної за нормальним законом, отримано вибірку об'ємом $n = 20$\n",
    "\n",
    "| $x_i$ | 1      | 2      | 4      | 6      | 7    | \n",
    "| :---  | :----: | :----: | :----: | :----: | ---: |\n",
    "| $n_i$ | 2      | 3      | 10     | 3      | 2    | \n",
    "\n",
    "Знайти з надійністю $\\gamma = 0,95$ інтервальну оцінку для середньо квадратичного відхилення $\\sigma$ генеральної\n",
    "сукупності."
   ]
  },
  {
   "cell_type": "markdown",
   "id": "9ddf33cf",
   "metadata": {},
   "source": [
    "**Розв'язок:**\n",
    "\n",
    "**1. Знайдемо стандартне відхилення для даної вибірки:**"
   ]
  },
  {
   "cell_type": "code",
   "execution_count": 7,
   "id": "40c7e998",
   "metadata": {},
   "outputs": [
    {
     "name": "stdout",
     "output_type": "stream",
     "text": [
      "Стандартне відхилення std = 1.73\n"
     ]
    }
   ],
   "source": [
    "import numpy as np\n",
    "x = [1, 2, 4, 6, 7]\n",
    "n = [2, 3, 10, 3, 2]\n",
    "\n",
    "arr = np.array([x[i] for i in range(len(x)) for _ in range(n[i])])\n",
    "std = np.std(arr)\n",
    "\n",
    "print(f\"Стандартне відхилення std = {round(std, 2)}\")"
   ]
  },
  {
   "cell_type": "markdown",
   "id": "273ffec7",
   "metadata": {},
   "source": [
    "**2. Знайдемо довірчий інтервал за формулою $std*(1-q) < \\sigma < std*(1+q)$:**"
   ]
  },
  {
   "cell_type": "markdown",
   "id": "0e7c894a",
   "metadata": {},
   "source": [
    "Для $n = 20$ та $\\gamma = 0,95$ з таблиці знайдемо $q = 0,37$"
   ]
  },
  {
   "cell_type": "code",
   "execution_count": 9,
   "id": "102037f4",
   "metadata": {},
   "outputs": [
    {
     "name": "stdout",
     "output_type": "stream",
     "text": [
      "Довірчий інтервал для середньо квадратичного відхилення даної вибірки знаходиться в межах від 1.09 до 2.37\n"
     ]
    }
   ],
   "source": [
    "q = 0.37\n",
    "print(f\"Довірчий інтервал для середньо квадратичного відхилення даної вибірки знаходиться в межах від {round(std*(1-q), 2)} до {round(std*(1+q), 2)}\")"
   ]
  },
  {
   "cell_type": "code",
   "execution_count": null,
   "id": "1d6d61f8",
   "metadata": {},
   "outputs": [],
   "source": []
  }
 ],
 "metadata": {
  "kernelspec": {
   "display_name": "Python 3 (ipykernel)",
   "language": "python",
   "name": "python3"
  },
  "language_info": {
   "codemirror_mode": {
    "name": "ipython",
    "version": 3
   },
   "file_extension": ".py",
   "mimetype": "text/x-python",
   "name": "python",
   "nbconvert_exporter": "python",
   "pygments_lexer": "ipython3",
   "version": "3.10.7"
  }
 },
 "nbformat": 4,
 "nbformat_minor": 5
}
